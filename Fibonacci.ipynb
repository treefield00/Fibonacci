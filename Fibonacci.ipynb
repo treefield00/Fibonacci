{
  "nbformat": 4,
  "nbformat_minor": 0,
  "metadata": {
    "kernelspec": {
      "name": "python3",
      "display_name": "Python 3"
    },
    "colab": {
      "provenance": [],
      "toc_visible": true,
      "include_colab_link": true
    },
    "language_info": {
      "name": "python"
    }
  },
  "cells": [
    {
      "cell_type": "markdown",
      "metadata": {
        "id": "view-in-github",
        "colab_type": "text"
      },
      "source": [
        "<a href=\"https://colab.research.google.com/github/treefield00/Fibonacci/blob/main/Fibonacci.ipynb\" target=\"_parent\"><img src=\"https://colab.research.google.com/assets/colab-badge.svg\" alt=\"Open In Colab\"/></a>"
      ]
    },
    {
      "cell_type": "markdown",
      "metadata": {
        "id": "oTZlJt715Du2"
      },
      "source": [
        "# Fibonacci"
      ]
    },
    {
      "cell_type": "code",
      "metadata": {
        "id": "gQ7GmBIg5Du3"
      },
      "source": [
        "# Recursion\n",
        "# Iteration\n",
        "# Generator → *無限にできる*\n",
        "\n",
        "# momoization Recursion\n",
        "# memoization Closure 関数オブジェクト返し\n",
        "# memoization Closure 値返し\n",
        "\n",
        "# memoization Function Decorator 関数オブジェクト返し\n",
        "\n",
        "# memoization Class Decorator 値返し\n",
        "# memoization Class Decorator 値返し\n",
        "# memoization Class Decorator 値返し"
      ],
      "execution_count": null,
      "outputs": []
    },
    {
      "cell_type": "markdown",
      "metadata": {
        "id": "_3ISpouuqcLJ"
      },
      "source": [
        "## Recursion"
      ]
    },
    {
      "cell_type": "code",
      "metadata": {
        "id": "vcHNY0Dw5Du4"
      },
      "source": [
        "#recursion\n",
        "\n",
        "def fib_rec(n):\n",
        "    if n < 2:\n",
        "        return n\n",
        "    \n",
        "    return fib_rec(n-2) + fib_rec(n-1)\n"
      ],
      "execution_count": null,
      "outputs": []
    },
    {
      "cell_type": "code",
      "metadata": {
        "id": "J8LlgYxH5Du4",
        "colab": {
          "base_uri": "https://localhost:8080/"
        },
        "outputId": "4ddaee2f-cfd0-44c8-cf3c-50d85fbeafed"
      },
      "source": [
        "fib_rec(5)"
      ],
      "execution_count": null,
      "outputs": [
        {
          "output_type": "execute_result",
          "data": {
            "text/plain": [
              "5"
            ]
          },
          "metadata": {},
          "execution_count": 18
        }
      ]
    },
    {
      "cell_type": "markdown",
      "metadata": {
        "id": "wRV3la55qu49"
      },
      "source": [
        "## Iteration"
      ]
    },
    {
      "cell_type": "code",
      "metadata": {
        "id": "Tk61Ealx5Du5"
      },
      "source": [
        "#iteration\n",
        "\n",
        "def fib_iter(n):\n",
        "    f1 = 0\n",
        "    f2 = 1\n",
        "    \n",
        "    for i in range(n):\n",
        "        #print(i)\n",
        "        f1,f2 = f2,f1+f2\n",
        "        #1 1,1      1,0+1\n",
        "        #2 1,2      1,1+1\n",
        "        #3 2,3      2,1+2\n",
        "        #4 3,5      3,2+3\n",
        "        #5 5,8      5,3+5\n",
        "        \n",
        "    \n",
        "    return f1"
      ],
      "execution_count": null,
      "outputs": []
    },
    {
      "cell_type": "code",
      "metadata": {
        "id": "MMbOUE9s5Du5",
        "colab": {
          "base_uri": "https://localhost:8080/"
        },
        "outputId": "968d2330-145b-41df-bc06-98da7d6802ec"
      },
      "source": [
        "fib_iter(5)"
      ],
      "execution_count": null,
      "outputs": [
        {
          "output_type": "execute_result",
          "data": {
            "text/plain": [
              "5"
            ]
          },
          "metadata": {},
          "execution_count": 66
        }
      ]
    },
    {
      "cell_type": "code",
      "source": [
        "#iteration 2\n",
        "\n",
        "memo = {}\n",
        "def fib_iter2(n):\n",
        "    memo[0] = 0\n",
        "    memo[1] = 1\n",
        "    \n",
        "    for i in range(2, n + 1):\n",
        "        memo[i] = memo[i - 1] + memo[i - 2]\n",
        "    \n",
        "    return memo[n]\n"
      ],
      "metadata": {
        "id": "WEKqbCsiv7rT"
      },
      "execution_count": null,
      "outputs": []
    },
    {
      "cell_type": "code",
      "source": [
        "fib_iter2(5)"
      ],
      "metadata": {
        "colab": {
          "base_uri": "https://localhost:8080/"
        },
        "id": "jbfrfXfCwmK3",
        "outputId": "5a72c4e3-064f-42e0-dd3c-4aed132fe2dd"
      },
      "execution_count": null,
      "outputs": [
        {
          "output_type": "execute_result",
          "data": {
            "text/plain": [
              "5"
            ]
          },
          "metadata": {},
          "execution_count": 20
        }
      ]
    },
    {
      "cell_type": "markdown",
      "metadata": {
        "id": "PlkTW6WYq0ER"
      },
      "source": [
        "## Generator"
      ]
    },
    {
      "cell_type": "code",
      "metadata": {
        "id": "J9hUx_Gr5Du5"
      },
      "source": [
        "#generator\n",
        "#ジェネレータ利用\n",
        "\n",
        "fb1,fb2 = 0,1\n",
        "def fib_gen():\n",
        "    global fb1,fb2\n",
        "\n",
        "    while True:\n",
        "        fb1,fb2 = fb2,fb1+fb2\n",
        "        yield fb1\n",
        "    "
      ],
      "execution_count": null,
      "outputs": []
    },
    {
      "cell_type": "code",
      "metadata": {
        "id": "eHIHwTb65Du6",
        "colab": {
          "base_uri": "https://localhost:8080/"
        },
        "outputId": "f2b629c0-4afd-46ad-85d0-b7d4ca73a3ce"
      },
      "source": [
        "fgen = fib_gen()\n",
        "next(fgen)\n",
        "next(fgen)\n",
        "next(fgen)\n",
        "next(fgen)\n",
        "next(fgen)\n",
        "print(next(fgen))"
      ],
      "execution_count": null,
      "outputs": [
        {
          "output_type": "stream",
          "text": [
            "8\n"
          ],
          "name": "stdout"
        }
      ]
    },
    {
      "cell_type": "code",
      "metadata": {
        "id": "_1ak04T15Du6"
      },
      "source": [
        "def fib_g(n):\n",
        "\n",
        "    fgen = fib_gen()\n",
        "    ret = 0\n",
        "    for i in range(n):\n",
        "        ret = next(fgen)\n",
        "\n",
        "    return ret"
      ],
      "execution_count": null,
      "outputs": []
    },
    {
      "cell_type": "code",
      "metadata": {
        "colab": {
          "base_uri": "https://localhost:8080/"
        },
        "id": "XYAqDjxrQKtJ",
        "outputId": "78de1b5c-ab29-45e6-cffb-16b27100ad40"
      },
      "source": [
        "fib_g(1)"
      ],
      "execution_count": null,
      "outputs": [
        {
          "output_type": "execute_result",
          "data": {
            "text/plain": [
              "515449135231559341621591189426925989418721609167804403107087312453694294479381404009230187092526675635022414542794904158934368158350216751867828729213516067642461147232232268304004580596220514978296704097915617589481297010691749471374967376304898014174716132125169572206688299944881902864940487579850754037243411123276226268998274067232370656873037885028569262362061989878439356579125363739644638605976667733232134130196207453194213358616463005487086631652051025004934485196108344869244852506414543015664379038338857611347469102943415360234480491921571800239803284078147859161629100936007246749423449323827401152142684138017539299637210829955409666781554035555164800825902557894478979141680264821730580654526990976167873657740460977594388216677737796493623940501749951993194553070912364327001564086186444836587037180810655016948562608480145057901528396467327800369394725748856906177005886944277609832795419082424474419033931754123200248752600310587761729439189440527073799320938597514569967706344559861576816209214912702962065352672071494639021231263782338510241176219316180788341549329905272081790433223099472061887224254193326845457247107409050092252994931668934553671721376871177693036352993174131508107261653495025271505086039171034392185521383307925723081097129536244468148375789733582131797176285225457221029865658845503179175504307577930140222583997281098099332145783930418777810346276337273420733754768191403158839413163368990092771464626510432292314209966950363068432367028332284209840897425718364670733733609565321893240873729315360915814803137552560521106490937691421540344502423323064743545226360364012549367167257038202145921861042955299329942301124074181956428710271876930526019606797077558959445434943166179407403375284366340173639269807373108055388080201746447050804598946499248800891171987624229020766742994219485280547337990630263452898332213470171667603200991268579583095661682595442200149483262133621860660302141160974707437100532341443580636798210704649175613121627855118061762876137389590812891131603206815601843823369210865672605256743142632199819790960079549275267815983406188538500072911327187912330503064073869613282412315795790671452556371408354045852898125070873750632615799469070245720036053071341314252092446074260578417947762296896685389368685659291620443322232933074723685001342680075497489"
            ]
          },
          "metadata": {
            "tags": []
          },
          "execution_count": 10
        }
      ]
    },
    {
      "cell_type": "markdown",
      "metadata": {
        "id": "mLzSLw0WCsAf"
      },
      "source": [
        "## Memoisation"
      ]
    },
    {
      "cell_type": "markdown",
      "metadata": {
        "id": "B56BH3G7PCYe"
      },
      "source": [
        "### Memoisation - Recursion"
      ]
    },
    {
      "cell_type": "code",
      "metadata": {
        "id": "MaXAQzZwoWV0"
      },
      "source": [
        "# memoization \n",
        "memo = {}\n",
        "def fib_memo(n):\n",
        "    if n < 2:\n",
        "        return n\n",
        "\n",
        "    if n in memo:\n",
        "        return memo[n]\n",
        "\n",
        "    memo[n] = fib_memo(n-2) + fib_memo(n-1)\n",
        "    \n",
        "    return memo[n]"
      ],
      "execution_count": null,
      "outputs": []
    },
    {
      "cell_type": "code",
      "metadata": {
        "colab": {
          "base_uri": "https://localhost:8080/"
        },
        "id": "wKvr67zspjKQ",
        "outputId": "016e0186-750e-4f5d-d9d8-9538bb50946c"
      },
      "source": [
        "fib_memo(100)"
      ],
      "execution_count": null,
      "outputs": [
        {
          "output_type": "execute_result",
          "data": {
            "text/plain": [
              "354224848179261915075"
            ]
          },
          "metadata": {},
          "execution_count": 23
        }
      ]
    },
    {
      "cell_type": "markdown",
      "metadata": {
        "id": "EPJEap-nHfgK"
      },
      "source": [
        "### Memoisation using Closure returning function"
      ]
    },
    {
      "cell_type": "markdown",
      "metadata": {
        "id": "dy1ORJ6MMuTf"
      },
      "source": [
        "関数オブジェクトを返すクロージャを使ったメモ化"
      ]
    },
    {
      "cell_type": "code",
      "metadata": {
        "id": "pcfXumGu5Du8"
      },
      "source": [
        "#memoization 1\n",
        "#関数クロージャ\n",
        "#関数オブジェクトを返して、関数を生成して利用\n",
        "\n",
        "def fib_memo_c():\n",
        "    dic = {}\n",
        "    \n",
        "    def fibo(n):\n",
        "        if n not in dic:\n",
        "            if n < 2:\n",
        "                dic[n] = n\n",
        "                return dic[n]\n",
        "            dic[n] = fibo(n-2) + fibo(n-1)\n",
        "        return dic[n]\n",
        "    \n",
        "    return fibo"
      ],
      "execution_count": null,
      "outputs": []
    },
    {
      "cell_type": "code",
      "metadata": {
        "id": "nIG8ffEE5Du8",
        "colab": {
          "base_uri": "https://localhost:8080/"
        },
        "outputId": "ad30afb7-7c18-483a-a497-f96d2b41b9c5"
      },
      "source": [
        "fib_c_o = fib_memo_c()\n",
        "\n",
        "fib_c_o(1000)"
      ],
      "execution_count": null,
      "outputs": [
        {
          "output_type": "execute_result",
          "data": {
            "text/plain": [
              "43466557686937456435688527675040625802564660517371780402481729089536555417949051890403879840079255169295922593080322634775209689623239873322471161642996440906533187938298969649928516003704476137795166849228875"
            ]
          },
          "metadata": {},
          "execution_count": 25
        }
      ]
    },
    {
      "cell_type": "markdown",
      "metadata": {
        "id": "RWL2qxUvM_sV"
      },
      "source": [
        "### Memoisation using Closure returning value"
      ]
    },
    {
      "cell_type": "markdown",
      "metadata": {
        "id": "bVcMyZ59NH6n"
      },
      "source": [
        "値を返すクロージャを使ったメモ化"
      ]
    },
    {
      "cell_type": "code",
      "metadata": {
        "id": "6v_WhNz65Du9"
      },
      "source": [
        "#memoization 2\n",
        "#関数クロージャ\n",
        "#直接値を返す\n",
        "\n",
        "def fib_c_v(n):\n",
        "    dic = {}\n",
        "    \n",
        "    def fibo(n):\n",
        "        if n in dic:\n",
        "            return dic[n]\n",
        "\n",
        "        if n < 2:\n",
        "            dic[n] = n\n",
        "            return dic[n]\n",
        "            \n",
        "        dic[n] = fibo(n-2) + fibo(n-1)\n",
        "        return dic[n]\n",
        "    \n",
        "    return fibo(n)"
      ],
      "execution_count": null,
      "outputs": []
    },
    {
      "cell_type": "code",
      "metadata": {
        "id": "FYrOp_I45Du-",
        "colab": {
          "base_uri": "https://localhost:8080/"
        },
        "outputId": "2974cab9-6985-48e9-e8bc-3bdd22d5b647"
      },
      "source": [
        "fib_c_v(10)"
      ],
      "execution_count": null,
      "outputs": [
        {
          "output_type": "execute_result",
          "data": {
            "text/plain": [
              "55"
            ]
          },
          "metadata": {
            "tags": []
          },
          "execution_count": 22
        }
      ]
    },
    {
      "cell_type": "markdown",
      "metadata": {
        "id": "YgIybmnXRUBF"
      },
      "source": [
        "### Memoisation using Function Decorator returning function"
      ]
    },
    {
      "cell_type": "code",
      "metadata": {
        "id": "JGTJXYPs5Du_"
      },
      "source": [
        "#memoization2\n",
        "#デコレータでメモ化\n",
        "#関数クロージャ\n",
        "\n",
        "def memoize(function):\n",
        "\n",
        "    memo = {} # memoizedは何度呼び出されても、関数定義時にあったmemoを見に行く\n",
        "\n",
        "    def memoized(n):\n",
        "        if n not in memo:\n",
        "            memo[n] = function(n)\n",
        "        return memo[n]\n",
        "\n",
        "    return memoized\n",
        "\n",
        "@memoize\n",
        "def fib_rec2(n):\n",
        "    if n < 2:\n",
        "        return n\n",
        "    return fib_rec2(n-2) + fib_rec2(n-1)"
      ],
      "execution_count": null,
      "outputs": []
    },
    {
      "cell_type": "code",
      "metadata": {
        "id": "kjQuAbS35DvA",
        "colab": {
          "base_uri": "https://localhost:8080/"
        },
        "outputId": "7515289f-635e-4444-f2c5-b0010f9c1300"
      },
      "source": [
        "fib_rec2(100)"
      ],
      "execution_count": null,
      "outputs": [
        {
          "output_type": "execute_result",
          "data": {
            "text/plain": [
              "354224848179261915075"
            ]
          },
          "metadata": {
            "tags": []
          },
          "execution_count": 33
        }
      ]
    },
    {
      "cell_type": "markdown",
      "metadata": {
        "id": "Dbl2WsCUS-9i"
      },
      "source": [
        "### Memoisation using Class Decorator returning value 1"
      ]
    },
    {
      "cell_type": "code",
      "metadata": {
        "id": "5QPPzmdZ5DvA"
      },
      "source": [
        "#デコレータクラスでメモ化\n",
        "#__call__で関数クロージャ\n",
        "#値を返す\n",
        "\n",
        "class Memoize:\n",
        "    def __init__(self, fn):\n",
        "        self.fn = fn\n",
        "        self.memo = {}\n",
        "        \n",
        "    def __call__(self, arg):\n",
        "        def wrapped(arg):\n",
        "            if arg not in self.memo:\n",
        "                self.memo[arg] = self.fn(arg)\n",
        "            return self.memo[arg]\n",
        "        return wrapped(arg)\n",
        "        #引数を渡して値を返す"
      ],
      "execution_count": null,
      "outputs": []
    },
    {
      "cell_type": "code",
      "metadata": {
        "id": "j00Yrk5D5DvB"
      },
      "source": [
        "@Memoize\n",
        "def fib_rec3(n):\n",
        "    if n < 2:\n",
        "        return n\n",
        "    return fib_rec3(n-2) + fib_rec3(n-1)"
      ],
      "execution_count": null,
      "outputs": []
    },
    {
      "cell_type": "code",
      "metadata": {
        "id": "mQKgWO3Z5DvB",
        "colab": {
          "base_uri": "https://localhost:8080/"
        },
        "outputId": "5aa3c005-1b8d-475d-b3ce-dd5950651a1c"
      },
      "source": [
        "fib_rec3(10)"
      ],
      "execution_count": null,
      "outputs": [
        {
          "output_type": "execute_result",
          "data": {
            "text/plain": [
              "55"
            ]
          },
          "metadata": {
            "tags": []
          },
          "execution_count": 38
        }
      ]
    },
    {
      "cell_type": "markdown",
      "metadata": {
        "id": "rS9wVLUFUHre"
      },
      "source": [
        "### Memoisation using Class Decorator returning value 2"
      ]
    },
    {
      "cell_type": "code",
      "metadata": {
        "id": "rYMdsAzh5DvC"
      },
      "source": [
        "# test\n",
        "# デコレータクラスでメモ化（ネットで参考）\n",
        "# 上記デコレータクラスでメモ化と同じ\n",
        "# __call__で関数クロージャ\n",
        "# 値を返す\n",
        "\n",
        "class class_base_memoize:\n",
        "    def __init__(self,function):\n",
        "        self.memo = {} # メモ用の辞書を用意する\n",
        "        self.function = function\n",
        "\n",
        "    def __call__(self,n):\n",
        "        def memoized(n):\n",
        "            if n not in self.memo: # 辞書にメモされているか\n",
        "                self.memo[n] = self.function(n) # されてなければメモする\n",
        "            return self.memo[n] # メモの内容を返す\n",
        "        return memoized(n) #引数を渡して値を返す\n",
        "\n",
        "@class_base_memoize\n",
        "def fib_cdv(n):\n",
        "    if n == 0 :\n",
        "        return 0\n",
        "    if n == 1:\n",
        "        return 1\n",
        "    return fib_cdv(n-1) + fib_cdv(n-2)"
      ],
      "execution_count": null,
      "outputs": []
    },
    {
      "cell_type": "code",
      "metadata": {
        "id": "I2RrprTQ5DvC",
        "colab": {
          "base_uri": "https://localhost:8080/"
        },
        "outputId": "8d6d6872-90c3-4b1b-b63f-0de2933da0e7"
      },
      "source": [
        "fib_cdv(10)"
      ],
      "execution_count": null,
      "outputs": [
        {
          "output_type": "execute_result",
          "data": {
            "text/plain": [
              "55"
            ]
          },
          "metadata": {},
          "execution_count": 71
        }
      ]
    },
    {
      "cell_type": "markdown",
      "metadata": {
        "id": "5SJfcJKaUW7H"
      },
      "source": [
        "### Memoisation using Class Decorator returning value 3"
      ]
    },
    {
      "cell_type": "code",
      "metadata": {
        "id": "KTQZrpWv5DvD"
      },
      "source": [
        "#Udemy\n",
        "#__call__で関数クロージャを使わない\n",
        "\n",
        "class Memoize_origin:\n",
        "    def __init__(self, fn):\n",
        "        self.fn = fn\n",
        "        self.memo = {}\n",
        "    def __call__(self, arg):\n",
        "        if arg not in self.memo:\n",
        "            self.memo[arg] = self.fn(arg)\n",
        "        return self.memo[arg]\n",
        "\n",
        "@Memoize_origin\n",
        "def fib_r(n):\n",
        "    \n",
        "    if n < 2:\n",
        "        return n\n",
        "    return fib_r(n-2) + fib_r(n-1)\n"
      ],
      "execution_count": null,
      "outputs": []
    },
    {
      "cell_type": "code",
      "source": [
        "fib_r(330)"
      ],
      "metadata": {
        "colab": {
          "base_uri": "https://localhost:8080/"
        },
        "id": "lTuKFso01Ff8",
        "outputId": "6a76b5ed-0634-44ad-9e45-cc06fb01be24"
      },
      "execution_count": null,
      "outputs": [
        {
          "output_type": "execute_result",
          "data": {
            "text/plain": [
              "413462646668428032346940119724892718502248750418536685577487386752440"
            ]
          },
          "metadata": {},
          "execution_count": 2
        }
      ]
    },
    {
      "cell_type": "markdown",
      "metadata": {
        "id": "mSOmvKgjxrTj"
      },
      "source": [
        "#Test"
      ]
    },
    {
      "cell_type": "markdown",
      "metadata": {
        "id": "cuYZC3CTxvgP"
      },
      "source": [
        "## Test"
      ]
    },
    {
      "cell_type": "code",
      "metadata": {
        "id": "nSHoms0c5DvD"
      },
      "source": [
        "#from nose.tools import assert_equal\n",
        "import unittest\n",
        "\n",
        "class TestFib(unittest.TestCase):\n",
        "    \n",
        "    def test(self,solution):\n",
        "        self.assertEqual(solution(10),55)\n",
        "        self.assertEqual(solution(1),1)\n",
        "        self.assertEqual(solution(2),1)\n",
        "        self.assertEqual(solution(3),2)\n",
        "        self.assertEqual(solution(4),3)\n",
        "        self.assertEqual(solution(5),5)\n",
        "        self.assertEqual(solution(6),8)\n",
        "        self.assertEqual(solution(23),28657)\n",
        "        print ('Passed all tests.')\n",
        "\n",
        "t = TestFib()\n"
      ],
      "execution_count": null,
      "outputs": []
    },
    {
      "cell_type": "code",
      "source": [
        "t.test(fib_rec)"
      ],
      "metadata": {
        "colab": {
          "base_uri": "https://localhost:8080/"
        },
        "id": "QOz2kX102j1i",
        "outputId": "6d8e102f-90f5-41c7-b666-865c3fb05ab5"
      },
      "execution_count": null,
      "outputs": [
        {
          "output_type": "stream",
          "name": "stdout",
          "text": [
            "Passed all tests.\n"
          ]
        }
      ]
    },
    {
      "cell_type": "code",
      "source": [
        "t.test(fib_memo) "
      ],
      "metadata": {
        "colab": {
          "base_uri": "https://localhost:8080/"
        },
        "id": "O4BoMmFj2nFF",
        "outputId": "a8f4921c-aa9f-4178-f62f-3ae9ad4e3130"
      },
      "execution_count": null,
      "outputs": [
        {
          "output_type": "stream",
          "name": "stdout",
          "text": [
            "Passed all tests.\n"
          ]
        }
      ]
    },
    {
      "cell_type": "code",
      "source": [
        "t.test(fib_iter)"
      ],
      "metadata": {
        "colab": {
          "base_uri": "https://localhost:8080/"
        },
        "id": "GzrGe4X42txj",
        "outputId": "fd2560b0-80b0-4007-efde-6c442291620f"
      },
      "execution_count": null,
      "outputs": [
        {
          "output_type": "stream",
          "name": "stdout",
          "text": [
            "Passed all tests.\n"
          ]
        }
      ]
    },
    {
      "cell_type": "code",
      "source": [
        "t.test(fib_iter2)"
      ],
      "metadata": {
        "colab": {
          "base_uri": "https://localhost:8080/"
        },
        "id": "msfn3RpM2xg4",
        "outputId": "8e652bcf-62ea-496b-d6ec-95356622c5d7"
      },
      "execution_count": null,
      "outputs": [
        {
          "output_type": "stream",
          "name": "stdout",
          "text": [
            "Passed all tests.\n"
          ]
        }
      ]
    },
    {
      "cell_type": "code",
      "source": [
        "t.test(fib_c_o)"
      ],
      "metadata": {
        "colab": {
          "base_uri": "https://localhost:8080/"
        },
        "id": "jLIULNAx2xT5",
        "outputId": "02efb537-91d8-43e9-dd27-97a3a485c6c2"
      },
      "execution_count": null,
      "outputs": [
        {
          "output_type": "stream",
          "name": "stdout",
          "text": [
            "Passed all tests.\n"
          ]
        }
      ]
    },
    {
      "cell_type": "code",
      "source": [
        "t.test(fib_c_v)"
      ],
      "metadata": {
        "colab": {
          "base_uri": "https://localhost:8080/"
        },
        "id": "69sc7pTc2xGV",
        "outputId": "936ec751-1217-4e62-c68f-3125427b63ce"
      },
      "execution_count": null,
      "outputs": [
        {
          "output_type": "stream",
          "name": "stdout",
          "text": [
            "Passed all tests.\n"
          ]
        }
      ]
    },
    {
      "cell_type": "code",
      "source": [
        "t.test(fib_rec2)"
      ],
      "metadata": {
        "colab": {
          "base_uri": "https://localhost:8080/"
        },
        "id": "dwzQUTKu2w4i",
        "outputId": "8f7144b7-dcd4-40e8-edaa-7fa71b87d12f"
      },
      "execution_count": null,
      "outputs": [
        {
          "output_type": "stream",
          "name": "stdout",
          "text": [
            "Passed all tests.\n"
          ]
        }
      ]
    },
    {
      "cell_type": "code",
      "source": [
        "t.test(fib_rec3)"
      ],
      "metadata": {
        "colab": {
          "base_uri": "https://localhost:8080/"
        },
        "id": "3uJ9kDai2wpt",
        "outputId": "6264efc8-8611-47db-c8b4-a7ff0d9ad64b"
      },
      "execution_count": null,
      "outputs": [
        {
          "output_type": "stream",
          "name": "stdout",
          "text": [
            "Passed all tests.\n"
          ]
        }
      ]
    },
    {
      "cell_type": "code",
      "source": [
        "t.test(fib_cdv)"
      ],
      "metadata": {
        "colab": {
          "base_uri": "https://localhost:8080/"
        },
        "id": "VeoDNqrJ2wZx",
        "outputId": "b1a968cf-fd01-428a-82a2-0b221a0d324c"
      },
      "execution_count": null,
      "outputs": [
        {
          "output_type": "stream",
          "name": "stdout",
          "text": [
            "Passed all tests.\n"
          ]
        }
      ]
    },
    {
      "cell_type": "code",
      "source": [
        "t.test(fib_r)"
      ],
      "metadata": {
        "colab": {
          "base_uri": "https://localhost:8080/"
        },
        "id": "DuY626k_2vcW",
        "outputId": "3a05c634-84a0-4f8b-b01d-a623974db3ed"
      },
      "execution_count": null,
      "outputs": [
        {
          "output_type": "stream",
          "name": "stdout",
          "text": [
            "Passed all tests.\n"
          ]
        }
      ]
    },
    {
      "cell_type": "markdown",
      "metadata": {
        "id": "qz18864oxzxn"
      },
      "source": [
        "## Test Generator"
      ]
    },
    {
      "cell_type": "code",
      "metadata": {
        "id": "qfp8Xx88HcM1"
      },
      "source": [
        "# ジェネレータテスト\n",
        "# 複数回実行すると、２回目以降もジェネレータが前回の最終値の次の値を継続して産出してしまうので、\n",
        "# テスト実行前に、毎回必ずジェネレータ(この場合「fib_gen」)のセルを再実行すること。\n",
        "\n",
        "import unittest\n",
        "\n",
        "class TestFibGen(unittest.TestCase):\n",
        "    # expected_values：テストケースの組み合わせ辞書\n",
        "    expected_values = {1:1, 2:1, 3:2, 4:3, 5:5, 6:8, 10:55, 23:28657}\n",
        "    last = sorted(list(expected_values.keys()))[-1]\n",
        "    #print('last:', last)\n",
        "\n",
        "    def test(self, testee_generator):\n",
        "        gen = testee_generator()\n",
        "        ret = 0\n",
        "        for i in range(1, self.last+1):\n",
        "            ret = next(gen)\n",
        "            if i in self.expected_values:\n",
        "                self.assertEqual(ret,self.expected_values[i])\n",
        "\n",
        "        print ('Passed all tests.')\n",
        "\n",
        "t = TestFibGen()\n"
      ],
      "execution_count": null,
      "outputs": []
    },
    {
      "cell_type": "code",
      "source": [
        "t.test(fib_gen)\n"
      ],
      "metadata": {
        "colab": {
          "base_uri": "https://localhost:8080/"
        },
        "id": "YtPFfrKX3lEM",
        "outputId": "ae15e520-855d-4f87-834b-d1257981041c"
      },
      "execution_count": null,
      "outputs": [
        {
          "output_type": "stream",
          "name": "stdout",
          "text": [
            "Passed all tests.\n"
          ]
        }
      ]
    }
  ]
}